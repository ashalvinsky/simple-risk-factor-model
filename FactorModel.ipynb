{
 "cells": [
  {
   "cell_type": "markdown",
   "metadata": {},
   "source": [
    "Some data preprocessing joining excel sheets on date filtering out empty records. "
   ]
  },
  {
   "cell_type": "code",
   "execution_count": 27,
   "metadata": {},
   "outputs": [],
   "source": [
    "import pandas as pd\n",
    "import numpy as np\n",
    "import statsmodels.api as sm\n",
    "from numpy import mean\n",
    "from numpy import sqrt\n",
    "from numpy import std\n",
    "import matplotlib.pyplot as plt \n",
    "from matplotlib.pyplot import figure\n",
    "from sklearn.model_selection import cross_val_score\n",
    "from sklearn.linear_model import Ridge\n",
    "from sklearn.linear_model import Lasso\n",
    "from sklearn.metrics import r2_score\n",
    "\n",
    "df_target_returns = pd.read_excel('risk_factors.xlsx', sheet_name=0)\n",
    "df_etf_returns = pd.read_excel('risk_factors.xlsx', sheet_name=1)\n",
    "df_factors = pd.read_excel('risk_factors.xlsx', sheet_name=2)\n",
    "\n",
    "df_target_returns.sort_values(by=['endDate'], inplace=True, ascending=False)\n",
    "df_etf_returns.sort_values(by=['date'], inplace=True, ascending=False)\n",
    "df_target_returns.rename(columns={'endDate': 'date'}, inplace=True)\n",
    "df_factors.rename(columns={ df_factors.columns[0]: 'date' }, inplace = True)\n",
    "\n",
    "df_target_returns = df_target_returns.dropna()\n",
    "df_etf_returns = df_etf_returns.dropna()\n",
    "df_factors = df_factors.dropna()\n",
    "\n",
    "merged_target_etf = pd.merge(left=df_target_returns, right=df_etf_returns, how='inner', left_on='date', right_on='date')\n",
    "merge_all = pd.merge(left=merged_target_etf, right=df_factors, how='inner', left_on='date', right_on='date')\n",
    "\n",
    "\n"
   ]
  },
  {
   "cell_type": "markdown",
   "metadata": {},
   "source": [
    "<p>Statistical OLS model.\n",
    "For a two-tailed test of t, with df=533 and p=.05, t must equal or exceed 1.960 \n",
    "From simple regression we can conclude that all factors\n",
    "are statistically significant with |t| stat > 1.96 given the small sample size. \n",
    "Factors explain 55.8% of risk.\n",
    "OLS has major drawbacks. First, OLS has no mechanism to filter out noise variables. \n",
    "Second, it assumes that factor loadings are constant over time.</p>"
   ]
  },
  {
   "cell_type": "code",
   "execution_count": 28,
   "metadata": {},
   "outputs": [
    {
     "data": {
      "text/html": [
       "<table class=\"simpletable\">\n",
       "<caption>OLS Regression Results</caption>\n",
       "<tr>\n",
       "  <th>Dep. Variable:</th>         <td>returns</td>     <th>  R-squared (uncentered):</th>      <td>   0.558</td> \n",
       "</tr>\n",
       "<tr>\n",
       "  <th>Model:</th>                   <td>OLS</td>       <th>  Adj. R-squared (uncentered):</th> <td>   0.554</td> \n",
       "</tr>\n",
       "<tr>\n",
       "  <th>Method:</th>             <td>Least Squares</td>  <th>  F-statistic:       </th>          <td>   131.6</td> \n",
       "</tr>\n",
       "<tr>\n",
       "  <th>Date:</th>             <td>Tue, 08 Jun 2021</td> <th>  Prob (F-statistic):</th>          <td>7.33e-125</td>\n",
       "</tr>\n",
       "<tr>\n",
       "  <th>Time:</th>                 <td>16:30:49</td>     <th>  Log-Likelihood:    </th>          <td>  3527.1</td> \n",
       "</tr>\n",
       "<tr>\n",
       "  <th>No. Observations:</th>      <td>   737</td>      <th>  AIC:               </th>          <td>  -7040.</td> \n",
       "</tr>\n",
       "<tr>\n",
       "  <th>Df Residuals:</th>          <td>   730</td>      <th>  BIC:               </th>          <td>  -7008.</td> \n",
       "</tr>\n",
       "<tr>\n",
       "  <th>Df Model:</th>              <td>     7</td>      <th>                     </th>              <td> </td>    \n",
       "</tr>\n",
       "<tr>\n",
       "  <th>Covariance Type:</th>      <td>nonrobust</td>    <th>                     </th>              <td> </td>    \n",
       "</tr>\n",
       "</table>\n",
       "<table class=\"simpletable\">\n",
       "<tr>\n",
       "                 <td></td>                    <th>coef</th>     <th>std err</th>      <th>t</th>      <th>P>|t|</th>  <th>[0.025</th>    <th>0.975]</th>  \n",
       "</tr>\n",
       "<tr>\n",
       "  <th>dbc</th>                             <td>    0.0238</td> <td>    0.008</td> <td>    2.876</td> <td> 0.004</td> <td>    0.008</td> <td>    0.040</td>\n",
       "</tr>\n",
       "<tr>\n",
       "  <th>hyg</th>                             <td>    0.3752</td> <td>    0.019</td> <td>   19.536</td> <td> 0.000</td> <td>    0.337</td> <td>    0.413</td>\n",
       "</tr>\n",
       "<tr>\n",
       "  <th>ief</th>                             <td>    0.1727</td> <td>    0.024</td> <td>    7.227</td> <td> 0.000</td> <td>    0.126</td> <td>    0.220</td>\n",
       "</tr>\n",
       "<tr>\n",
       "  <th>spy</th>                             <td>   -0.0327</td> <td>    0.010</td> <td>   -3.318</td> <td> 0.001</td> <td>   -0.052</td> <td>   -0.013</td>\n",
       "</tr>\n",
       "<tr>\n",
       "  <th>united-states-ig-oas-all-sector</th> <td>-1.707e-05</td> <td> 5.14e-06</td> <td>   -3.321</td> <td> 0.001</td> <td>-2.72e-05</td> <td>-6.98e-06</td>\n",
       "</tr>\n",
       "<tr>\n",
       "  <th>united-states-hy-oas-all-sector</th> <td> 4.628e-06</td> <td>  1.5e-06</td> <td>    3.082</td> <td> 0.002</td> <td> 1.68e-06</td> <td> 7.58e-06</td>\n",
       "</tr>\n",
       "<tr>\n",
       "  <th>united-states-cmt10y</th>            <td>    0.0003</td> <td> 8.03e-05</td> <td>    3.456</td> <td> 0.001</td> <td>    0.000</td> <td>    0.000</td>\n",
       "</tr>\n",
       "</table>\n",
       "<table class=\"simpletable\">\n",
       "<tr>\n",
       "  <th>Omnibus:</th>       <td>433.184</td> <th>  Durbin-Watson:     </th> <td>   1.248</td> \n",
       "</tr>\n",
       "<tr>\n",
       "  <th>Prob(Omnibus):</th> <td> 0.000</td>  <th>  Jarque-Bera (JB):  </th> <td>11783.627</td>\n",
       "</tr>\n",
       "<tr>\n",
       "  <th>Skew:</th>          <td>-2.121</td>  <th>  Prob(JB):          </th> <td>    0.00</td> \n",
       "</tr>\n",
       "<tr>\n",
       "  <th>Kurtosis:</th>      <td>22.124</td>  <th>  Cond. No.          </th> <td>1.39e+05</td> \n",
       "</tr>\n",
       "</table><br/><br/>Warnings:<br/>[1] Standard Errors assume that the covariance matrix of the errors is correctly specified.<br/>[2] The condition number is large, 1.39e+05. This might indicate that there are<br/>strong multicollinearity or other numerical problems."
      ],
      "text/plain": [
       "<class 'statsmodels.iolib.summary.Summary'>\n",
       "\"\"\"\n",
       "                                 OLS Regression Results                                \n",
       "=======================================================================================\n",
       "Dep. Variable:                returns   R-squared (uncentered):                   0.558\n",
       "Model:                            OLS   Adj. R-squared (uncentered):              0.554\n",
       "Method:                 Least Squares   F-statistic:                              131.6\n",
       "Date:                Tue, 08 Jun 2021   Prob (F-statistic):                   7.33e-125\n",
       "Time:                        16:30:49   Log-Likelihood:                          3527.1\n",
       "No. Observations:                 737   AIC:                                     -7040.\n",
       "Df Residuals:                     730   BIC:                                     -7008.\n",
       "Df Model:                           7                                                  \n",
       "Covariance Type:            nonrobust                                                  \n",
       "===================================================================================================\n",
       "                                      coef    std err          t      P>|t|      [0.025      0.975]\n",
       "---------------------------------------------------------------------------------------------------\n",
       "dbc                                 0.0238      0.008      2.876      0.004       0.008       0.040\n",
       "hyg                                 0.3752      0.019     19.536      0.000       0.337       0.413\n",
       "ief                                 0.1727      0.024      7.227      0.000       0.126       0.220\n",
       "spy                                -0.0327      0.010     -3.318      0.001      -0.052      -0.013\n",
       "united-states-ig-oas-all-sector -1.707e-05   5.14e-06     -3.321      0.001   -2.72e-05   -6.98e-06\n",
       "united-states-hy-oas-all-sector  4.628e-06    1.5e-06      3.082      0.002    1.68e-06    7.58e-06\n",
       "united-states-cmt10y                0.0003   8.03e-05      3.456      0.001       0.000       0.000\n",
       "==============================================================================\n",
       "Omnibus:                      433.184   Durbin-Watson:                   1.248\n",
       "Prob(Omnibus):                  0.000   Jarque-Bera (JB):            11783.627\n",
       "Skew:                          -2.121   Prob(JB):                         0.00\n",
       "Kurtosis:                      22.124   Cond. No.                     1.39e+05\n",
       "==============================================================================\n",
       "\n",
       "Warnings:\n",
       "[1] Standard Errors assume that the covariance matrix of the errors is correctly specified.\n",
       "[2] The condition number is large, 1.39e+05. This might indicate that there are\n",
       "strong multicollinearity or other numerical problems.\n",
       "\"\"\""
      ]
     },
     "execution_count": 28,
     "metadata": {},
     "output_type": "execute_result"
    }
   ],
   "source": [
    "merge_all.drop(columns=['date'], inplace=True)\n",
    "X = merge_all.iloc[:,1:]\n",
    "y = merge_all['returns']\n",
    "final_results = pd.DataFrame(columns=X.columns)\n",
    "ols_model = sm.OLS(y, X).fit()\n",
    "predictions = ols_model.predict(X) \n",
    "ols_model.summary()\n"
   ]
  },
  {
   "cell_type": "markdown",
   "metadata": {},
   "source": [
    "ML Ridge regression.\n",
    "R^2 around 55.2%\n"
   ]
  },
  {
   "cell_type": "code",
   "execution_count": 29,
   "metadata": {},
   "outputs": [],
   "source": [
    "def call_ridge(feature=''):\n",
    "    model_rr = Ridge(alpha=0.005)\n",
    "    new_testset_X = X\n",
    "    if feature:    \n",
    "        new_testset_X = X.drop([feature], axis=1)\n",
    "    model_rr.fit(new_testset_X, y) \n",
    "    pred_train_rr = model_rr.predict(new_testset_X)\n",
    "    r2 = r2_score(y, pred_train_rr) * 100\n",
    "    final_results.at[0, feature] = r2\n"
   ]
  },
  {
   "cell_type": "markdown",
   "metadata": {},
   "source": [
    "ML Lasso regression with small alpha=0.0000009.  R^2 around 56%"
   ]
  },
  {
   "cell_type": "code",
   "execution_count": 30,
   "metadata": {},
   "outputs": [],
   "source": [
    "def call_lassoo(feature=''):\n",
    "    model_lasso = Lasso(alpha=0.0000009, fit_intercept=True)\n",
    "    new_testset_X = X\n",
    "    if feature:\n",
    "        new_testset_X = X.drop([feature], axis=1)\n",
    "    model_lasso.fit(new_testset_X, y) \n",
    "    pred_train_lasso= model_lasso.predict(new_testset_X)\n",
    "    r2 = r2_score(y, pred_train_lasso) * 100\n",
    "    final_results.at[1, feature] = r2\n"
   ]
  },
  {
   "cell_type": "markdown",
   "metadata": {},
   "source": [
    "\n",
    "The value of R2 is the percent of total risk explained by systematic risk.\n",
    "Total risk could be derived in multiple ways, one is standard deviation multiplied by returns annualized.\n",
    "I call 2 ML regression Ridge, Lasso models with different combinationns of factors and take mean between the two results.\n",
    "The models are called with deifferent factors / feutures and R^2 results are recoded in the dataframe called final_results. I also calculate R^2 value with all the factors / feutures.\n",
    "Next step i subtract calculate R^2 mean for the two models with one factor excluded from the total.\n",
    "\n",
    "\n"
   ]
  },
  {
   "cell_type": "code",
   "execution_count": 31,
   "metadata": {
    "scrolled": true
   },
   "outputs": [
    {
     "name": "stdout",
     "output_type": "stream",
     "text": [
      "Total risk % 4.817834833924939\n",
      "DBC factor % of total risk     0.311112\n",
      "dtype: float64\n",
      "HYG factor % of total risk     4.817835\n",
      "dtype: float64\n",
      "IEF factor % of total risk     1.798403\n",
      "dtype: float64\n",
      "SPY factor % of total risk     0.004667\n",
      "dtype: float64\n",
      "united-states-ig-oas-all-sector factor % of total risk     0.610083\n",
      "dtype: float64\n",
      "united-states-hy-oas-all-sector factor % of total risk     0.004874\n",
      "dtype: float64\n",
      "united-states-cmt10y     0.576809\n",
      "dtype: float64\n"
     ]
    }
   ],
   "source": [
    "y_cov_matrix = np.cov(merge_all['returns']) * 252\n",
    "total_risk = np.sqrt(np.dot(np.array([1]).T, np.dot(y_cov_matrix , np.array([1])))) * 100\n",
    "#check =  np.std(merge_all['returns']) * np.sqrt(252) * 100\n",
    "\n",
    "for feature in final_results.columns:\n",
    "    call_ridge(feature)\n",
    "    call_lassoo(feature)\n",
    "\n",
    "call_ridge()\n",
    "call_lassoo()\n",
    "\n",
    "#precentage of total risk\n",
    "sytematic_risk = final_results.iloc[ : , 7:].mean()\n",
    "final_results_dbc = sytematic_risk - final_results['dbc'].mean() \n",
    "final_results_hyg = sytematic_risk- final_results['hyg'].mean() \n",
    "final_results_ief = sytematic_risk - final_results['ief'].mean() \n",
    "final_results_spy = sytematic_risk - final_results['spy'].mean() \n",
    "final_results_ig = sytematic_risk - final_results['united-states-ig-oas-all-sector'].mean() \n",
    "final_results_hy = sytematic_risk - final_results['united-states-hy-oas-all-sector'].mean() \n",
    "final_results_cmt10y = sytematic_risk - final_results['united-states-cmt10y'].mean()\n",
    "\n",
    "print(\"Total risk %\",  total_risk)\n",
    "print(\"DBC factor % of total risk\",  (total_risk % sytematic_risk) % final_results_dbc)\n",
    "print(\"HYG factor % of total risk\",  (total_risk % sytematic_risk) % final_results_hyg )\n",
    "print(\"IEF factor % of total risk\",  (total_risk % sytematic_risk) % final_results_ief )\n",
    "print(\"SPY factor % of total risk\",  (total_risk % sytematic_risk) % final_results_spy )\n",
    "print(\"united-states-ig-oas-all-sector factor % of total risk\",  (total_risk % sytematic_risk) % final_results_ig )\n",
    "print(\"united-states-hy-oas-all-sector factor % of total risk\",  (total_risk % sytematic_risk) % final_results_hy )\n",
    "print(\"united-states-cmt10y\",  (total_risk % sytematic_risk) % final_results_cmt10y )\n"
   ]
  },
  {
   "cell_type": "markdown",
   "metadata": {},
   "source": [
    "Results:\n",
    "Total risk % 4.817834833924939\n",
    "DBC factor % of total risk     0.311112\n",
    "dtype: float64\n",
    "HYG factor % of total risk     4.817835\n",
    "dtype: float64\n",
    "IEF factor % of total risk     1.798403\n",
    "dtype: float64\n",
    "SPY factor % of total risk     0.004667\n",
    "dtype: float64\n",
    "united-states-ig-oas-all-sector factor % of total risk     0.610083\n",
    "dtype: float64\n",
    "united-states-hy-oas-all-sector factor % of total risk     0.004874\n",
    "dtype: float64\n",
    "united-states-cmt10y     0.576809\n",
    "dtype: float64\n"
   ]
  }
 ],
 "metadata": {
  "kernelspec": {
   "display_name": "Python 3",
   "language": "python",
   "name": "python3"
  },
  "language_info": {
   "codemirror_mode": {
    "name": "ipython",
    "version": 3
   },
   "file_extension": ".py",
   "mimetype": "text/x-python",
   "name": "python",
   "nbconvert_exporter": "python",
   "pygments_lexer": "ipython3",
   "version": "3.8.3"
  }
 },
 "nbformat": 4,
 "nbformat_minor": 4
}
